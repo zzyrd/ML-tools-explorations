{
 "cells": [
  {
   "cell_type": "code",
   "execution_count": 1,
   "metadata": {},
   "outputs": [],
   "source": [
    "# Name: Zhihao Zhang\n",
    "# NetID: zz2432\n",
    "\n",
    "%matplotlib inline\n",
    "import numpy as np\n",
    "import math\n",
    "import matplotlib.pyplot as plt\n",
    "from sklearn import preprocessing\n",
    "from sklearn.model_selection import train_test_split\n",
    "\n",
    "from sklearn.linear_model import LogisticRegression"
   ]
  },
  {
   "cell_type": "markdown",
   "metadata": {},
   "source": [
    "## Extension 1: adding l1(lasso) regularization to logistic regression"
   ]
  },
  {
   "cell_type": "markdown",
   "metadata": {},
   "source": [
    "#### Notice: \n",
    "L1 regularization: Lasso Regression\n",
    "\n",
    "L2 regularization: Ridge Regression\n",
    "\n",
    "\n",
    "Sklearn logisiticRegression:  \n",
    "default solver='lbfgs' supports no regularization and l2 regularization\n",
    "\n",
    "solver= 'liblinear' supports l1(lasso) regularization\n",
    "\n",
    "\n",
    "default C=1.0: parameter terms. C= 1/lambda. C=1 => lambda=1. lambda is our regularization parameter. large lambda implies more regularization -> reduce overfitting. small lambda implies less regularization -> increase overfitting"
   ]
  },
  {
   "cell_type": "markdown",
   "metadata": {},
   "source": [
    "### 1. Dataset used in class: breast_cancer"
   ]
  },
  {
   "cell_type": "code",
   "execution_count": 4,
   "metadata": {},
   "outputs": [],
   "source": [
    "from sklearn.datasets import load_breast_cancer\n",
    "cancer = load_breast_cancer()\n",
    "X = cancer.data\n",
    "y = cancer.target\n",
    "X_train_tmp, X_test_tmp, y_train, y_test = train_test_split(X, y, test_size=0.33, random_state=42)\n",
    "# Scale the data since we will be using gradient ascent\n",
    "scaler = preprocessing.StandardScaler().fit(X_train_tmp)\n",
    "X_train = scaler.transform(X_train_tmp)\n",
    "X_test = scaler.transform(X_test_tmp)"
   ]
  },
  {
   "cell_type": "markdown",
   "metadata": {},
   "source": [
    "#### Two Sklearn library Implementations:  with/without extension"
   ]
  },
  {
   "cell_type": "code",
   "execution_count": 5,
   "metadata": {
    "scrolled": true
   },
   "outputs": [
    {
     "name": "stdout",
     "output_type": "stream",
     "text": [
      "Accuracy with no regularization term: 0.9414893617021277\n",
      "Accuracy with L1(lasso) regularization term: 0.973404255319149\n"
     ]
    }
   ],
   "source": [
    "clf = LogisticRegression(penalty='none').fit(X_train, y_train)\n",
    "res1 = clf.score(X_test, y_test)\n",
    "print(f'Accuracy with no regularization term: {res1}')\n",
    "\n",
    "clf = LogisticRegression(penalty='l1',solver=\"liblinear\").fit(X_train, y_train)\n",
    "res2 = clf.score(X_test, y_test)\n",
    "print(f'Accuracy with L1(lasso) regularization term: {res2}')"
   ]
  },
  {
   "cell_type": "markdown",
   "metadata": {},
   "source": [
    "### 2. Dataset outside class: wine"
   ]
  },
  {
   "cell_type": "code",
   "execution_count": 6,
   "metadata": {},
   "outputs": [
    {
     "name": "stdout",
     "output_type": "stream",
     "text": [
      "['class_0' 'class_1' 'class_2']\n",
      "we only focus on class_0 and class_1 for the purpose of simplicity. (do binary classification)\n"
     ]
    }
   ],
   "source": [
    "from sklearn.datasets import load_wine\n",
    "data = load_wine()\n",
    "target_name = data.target_names\n",
    "print(target_name)\n",
    "print('we only focus on class_0 and class_1 for the purpose of simplicity. (do binary classification)')\n",
    "# we only focus on class_0 and class_1 for the purpose of simplicity. (do binary classification)\n",
    "X = data.data[0:130]\n",
    "y = data.target[0:130]\n",
    "\n",
    "X_train_tmp, X_test_tmp, y_train, y_test = train_test_split(X, y, test_size=0.33, random_state=42)\n",
    "# Scale the data since we will be using gradient ascent\n",
    "scaler = preprocessing.StandardScaler().fit(X_train_tmp)\n",
    "X_train = scaler.transform(X_train_tmp)\n",
    "X_test = scaler.transform(X_test_tmp)"
   ]
  },
  {
   "cell_type": "markdown",
   "metadata": {},
   "source": [
    "#### Two Sklearn library Implementations:  with/without extension"
   ]
  },
  {
   "cell_type": "code",
   "execution_count": 7,
   "metadata": {},
   "outputs": [
    {
     "name": "stdout",
     "output_type": "stream",
     "text": [
      "Accuracy with no regularization term: 0.9767441860465116\n",
      "Accuracy with L1(lasso) regularization term: 1.0\n"
     ]
    }
   ],
   "source": [
    "clf = LogisticRegression(penalty='none').fit(X_train, y_train)\n",
    "res1 = clf.score(X_test, y_test)\n",
    "print(f'Accuracy with no regularization term: {res1}')\n",
    "\n",
    "clf = LogisticRegression(penalty='l1',solver=\"liblinear\").fit(X_train, y_train)\n",
    "res2 = clf.score(X_test, y_test)\n",
    "print(f'Accuracy with L1(lasso) regularization term: {res2}')"
   ]
  },
  {
   "cell_type": "code",
   "execution_count": null,
   "metadata": {},
   "outputs": [],
   "source": []
  }
 ],
 "metadata": {
  "kernelspec": {
   "display_name": "Python 3",
   "language": "python",
   "name": "python3"
  },
  "language_info": {
   "codemirror_mode": {
    "name": "ipython",
    "version": 3
   },
   "file_extension": ".py",
   "mimetype": "text/x-python",
   "name": "python",
   "nbconvert_exporter": "python",
   "pygments_lexer": "ipython3",
   "version": "3.7.3"
  }
 },
 "nbformat": 4,
 "nbformat_minor": 4
}
