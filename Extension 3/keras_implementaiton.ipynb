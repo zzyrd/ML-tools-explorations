{
 "cells": [
  {
   "cell_type": "code",
   "execution_count": 1,
   "metadata": {},
   "outputs": [],
   "source": [
    "# Name: Zhihao Zhang\n",
    "# NetID: zz2432\n",
    "\n",
    "%matplotlib inline\n",
    "import numpy as np\n",
    "import math\n",
    "import matplotlib.pyplot as plt\n",
    "from sklearn import preprocessing\n",
    "from sklearn.model_selection import train_test_split\n",
    "\n",
    "import tensorflow as tf\n",
    "from tensorflow import keras"
   ]
  },
  {
   "cell_type": "markdown",
   "metadata": {},
   "source": [
    "## Extension 3: Implement softmax as outer layer activation in Neural Network"
   ]
  },
  {
   "cell_type": "markdown",
   "metadata": {},
   "source": [
    "### Build one-hidden layer neural network similar to what we implemented in the homework\n",
    "\n",
    "* Input layer: 64\n",
    "* Hidden layer: 30\n",
    "* Output layer: 10\n",
    "* Activation function: relu\n",
    "* adam optimizer: a stochastic gradient descent method that is based on adaptive estimation of first-order and second-order moments.\n",
    "* loss function: use CategoricalCrossentropy for one-hot encoding labels\n",
    "\n",
    "For model_2, we simply change the outer layer activation function to softmax for implementing the extension\n",
    "\n",
    "\n",
    "#### Parameters for fitting the model:\n",
    "* validation_split=0.1   split input training set such that 90% for training, 10% for validation\n",
    "* batch_size=10          number of samples to work through before updating the internal model parameters \n",
    "* epochs=20              number of iterations\n",
    "* shuffle=True           whether to shuffle the training data before each epoch\n",
    "* verbose=0              Verbosity mode. 0 = silent, 1 = progress bar, 2 = one line per epoch"
   ]
  },
  {
   "cell_type": "markdown",
   "metadata": {},
   "source": [
    "### 1. Dataset used in class: load_digits"
   ]
  },
  {
   "cell_type": "code",
   "execution_count": 2,
   "metadata": {},
   "outputs": [],
   "source": [
    "from sklearn.datasets import load_digits # The MNIST data set is in scikit learn data set\n",
    "digits=load_digits()\n",
    "X_scale = preprocessing.StandardScaler()  # It is important in neural networks to scale the data\n",
    "X = X_scale.fit_transform(digits.data)\n",
    "y = digits.target\n",
    "#Split the data into training and test set.  70% training and 30% test\n",
    "X_train, X_test, y_train, y_test = train_test_split(X, y, test_size=0.3, random_state=42)\n",
    "# one-hot encoding y_train\n",
    "n_labels = np.unique(y_train).size\n",
    "y_train = tf.one_hot(y_train, depth=n_labels)"
   ]
  },
  {
   "cell_type": "code",
   "execution_count": 3,
   "metadata": {},
   "outputs": [
    {
     "name": "stdout",
     "output_type": "stream",
     "text": [
      "Input size: 64\n",
      "Output size: 10\n"
     ]
    }
   ],
   "source": [
    "print(f'Input size: {X_train.shape[1]}\\nOutput size: {n_labels}')"
   ]
  },
  {
   "cell_type": "markdown",
   "metadata": {},
   "source": [
    "#### NN model similiar to our hw: All relu activation functions"
   ]
  },
  {
   "cell_type": "code",
   "execution_count": 4,
   "metadata": {},
   "outputs": [],
   "source": [
    "# build NN model\n",
    "model_1 = keras.Sequential([\n",
    "    keras.layers.Dense(units=64, input_shape=(64,),activation='relu'),\n",
    "    keras.layers.Dense(units=30, activation='relu'),\n",
    "    keras.layers.Dense(units=10, activation='relu')\n",
    "])\n",
    "# compile our model with adam optimizer\n",
    "model_1.compile(optimizer='adam', \n",
    "              loss=tf.losses.CategoricalCrossentropy(from_logits=True),\n",
    "              metrics=['accuracy'])"
   ]
  },
  {
   "cell_type": "code",
   "execution_count": 5,
   "metadata": {},
   "outputs": [],
   "source": [
    "history = model_1.fit(X_train, y_train, validation_split=0.1,batch_size=10,epochs=20,shuffle=True,verbose=0)"
   ]
  },
  {
   "cell_type": "code",
   "execution_count": 6,
   "metadata": {},
   "outputs": [
    {
     "name": "stdout",
     "output_type": "stream",
     "text": [
      "Peak at first example prediction:\n"
     ]
    },
    {
     "data": {
      "text/plain": [
       "[0.055045414716005325,\n",
       " 0.0,\n",
       " 0.0,\n",
       " 0.0,\n",
       " 0.0,\n",
       " 0.0,\n",
       " 11.059178352355957,\n",
       " 0.0,\n",
       " 2.7189788818359375,\n",
       " 0.0]"
      ]
     },
     "execution_count": 6,
     "metadata": {},
     "output_type": "execute_result"
    }
   ],
   "source": [
    "predictions = model_1.predict(X_test, batch_size=10,verbose=0)\n",
    "print('Peak at first example prediction:')\n",
    "predictions[0].tolist()"
   ]
  },
  {
   "cell_type": "code",
   "execution_count": 7,
   "metadata": {},
   "outputs": [
    {
     "name": "stdout",
     "output_type": "stream",
     "text": [
      "Simple NN model Accuracy: 0.8722222222222222\n"
     ]
    }
   ],
   "source": [
    "# if your model does binary classification(e.g. if it uses a `sigmoid` last-layer activation)\n",
    "# (model.predict(x) > 0.5).astype(\"int32\")\n",
    "\n",
    "preds = np.argmax(predictions, axis=-1)\n",
    "res = np.where(preds==y_test)[0].size/y_test.size\n",
    "print(f'Simple NN model Accuracy: {res}')"
   ]
  },
  {
   "cell_type": "markdown",
   "metadata": {},
   "source": [
    "#### NN model with extension: use softmax activation at the output layer"
   ]
  },
  {
   "cell_type": "code",
   "execution_count": 8,
   "metadata": {},
   "outputs": [],
   "source": [
    "# build NN model\n",
    "model_2 = keras.Sequential([\n",
    "    keras.layers.Dense(units=64, input_shape=(64,),activation='relu'),\n",
    "    keras.layers.Dense(units=30, activation='relu'),\n",
    "    keras.layers.Dense(units=10, activation='softmax')\n",
    "])\n",
    "# compile our model with adam optimizer\n",
    "model_2.compile(optimizer='adam', \n",
    "              loss=tf.losses.CategoricalCrossentropy(from_logits=True),\n",
    "              metrics=['accuracy'])"
   ]
  },
  {
   "cell_type": "code",
   "execution_count": 9,
   "metadata": {},
   "outputs": [],
   "source": [
    "history = model_2.fit(X_train, y_train ,validation_split=0.1,batch_size=10,epochs=20, shuffle=True,verbose=0)"
   ]
  },
  {
   "cell_type": "code",
   "execution_count": 10,
   "metadata": {},
   "outputs": [
    {
     "name": "stdout",
     "output_type": "stream",
     "text": [
      "Peak at first example prediction:\n"
     ]
    },
    {
     "data": {
      "text/plain": [
       "[3.463188249952509e-06,\n",
       " 2.7399980240261357e-07,\n",
       " 2.340833304970147e-08,\n",
       " 1.625615908551481e-08,\n",
       " 4.0496192923455965e-06,\n",
       " 1.0581742770909841e-07,\n",
       " 0.9999899864196777,\n",
       " 2.0254979915534932e-08,\n",
       " 2.19072694562783e-06,\n",
       " 6.45689612888134e-10]"
      ]
     },
     "execution_count": 10,
     "metadata": {},
     "output_type": "execute_result"
    }
   ],
   "source": [
    "# return the probability for each of 10 labels, the sum of all is 1\n",
    "predictions = model_2.predict(X_test, batch_size=10,verbose=0)\n",
    "print('Peak at first example prediction:')\n",
    "predictions[0].tolist()"
   ]
  },
  {
   "cell_type": "code",
   "execution_count": 11,
   "metadata": {},
   "outputs": [
    {
     "name": "stdout",
     "output_type": "stream",
     "text": [
      "Simple NN model with softmax as extension Accuracy: 0.975925925925926\n"
     ]
    }
   ],
   "source": [
    "# if your model does multi-class classification (e.g. if it uses a `softmax` last-layer activation)\n",
    "# np.argmax(model.predict(x), axis=-1)\n",
    "preds = np.argmax(predictions, axis=-1)\n",
    "res = np.where(preds==y_test)[0].size/y_test.size\n",
    "print(f'Simple NN model with softmax as extension Accuracy: {res}')"
   ]
  },
  {
   "cell_type": "markdown",
   "metadata": {},
   "source": [
    "### 2. Dataset outside class:  fetch_covtype"
   ]
  },
  {
   "cell_type": "code",
   "execution_count": 12,
   "metadata": {},
   "outputs": [],
   "source": [
    "from sklearn.datasets import fetch_covtype\n",
    "cover_type = fetch_covtype()\n",
    "X_scale = preprocessing.StandardScaler()  # It is important in neural networks to scale the data\n",
    "X = X_scale.fit_transform(cover_type.data)\n",
    "y = cover_type.target\n",
    "#Split the data into training and test set.  70% training and 30% test\n",
    "X_train, X_test, y_train, y_test = train_test_split(X, y, test_size=0.3, random_state=42)\n",
    "\n",
    "# since our label is from 1 to 7: for convenience, subtract all label by 1 to match the indices of one-hot encoding\n",
    "y_train = y_train - 1\n",
    "# one-hot encoding y_train\n",
    "n_labels = np.unique(y_train).size\n",
    "y_train = tf.one_hot(y_train, depth=n_labels)"
   ]
  },
  {
   "cell_type": "code",
   "execution_count": 13,
   "metadata": {},
   "outputs": [
    {
     "name": "stdout",
     "output_type": "stream",
     "text": [
      "Number of Sample to Train: 406708\n",
      "Input size: 54\n",
      "Output size: 7\n"
     ]
    }
   ],
   "source": [
    "print(f'Number of Sample to Train: {X_train.shape[0]}\\nInput size: {X_train.shape[1]}\\nOutput size: {n_labels}')"
   ]
  },
  {
   "cell_type": "markdown",
   "metadata": {},
   "source": [
    "### Now build two NN models (same configurations as above) to test for our extension. "
   ]
  },
  {
   "cell_type": "markdown",
   "metadata": {},
   "source": [
    "#### NN model "
   ]
  },
  {
   "cell_type": "code",
   "execution_count": 14,
   "metadata": {},
   "outputs": [],
   "source": [
    "# build NN model layers: [54, 30, 7]. our imput size is 54, our output label size is 7\n",
    "model_3 = keras.Sequential([\n",
    "    keras.layers.Dense(units=54, input_shape=(54,),activation='relu'),\n",
    "    keras.layers.Dense(units=30, activation='relu'),\n",
    "    keras.layers.Dense(units=7, activation='relu')\n",
    "])\n",
    "# compile our model with adam optimizer\n",
    "model_3.compile(optimizer='adam', \n",
    "              loss=tf.losses.CategoricalCrossentropy(from_logits=True),\n",
    "              metrics=['accuracy'])"
   ]
  },
  {
   "cell_type": "code",
   "execution_count": 15,
   "metadata": {},
   "outputs": [
    {
     "name": "stdout",
     "output_type": "stream",
     "text": [
      "CPU times: user 30.8 s, sys: 13.1 s, total: 43.9 s\n",
      "Wall time: 15.2 s\n"
     ]
    }
   ],
   "source": [
    "%%time\n",
    "history = model_3.fit(X_train, y_train, validation_split=0.1,batch_size=128,epochs=10,shuffle=True,verbose=0)"
   ]
  },
  {
   "cell_type": "code",
   "execution_count": 16,
   "metadata": {},
   "outputs": [
    {
     "name": "stdout",
     "output_type": "stream",
     "text": [
      "Simple NN model Accuracy: 0.8259248210023866\n"
     ]
    }
   ],
   "source": [
    "predictions = model_3.predict(X_test, batch_size=1000,verbose=0)\n",
    "\n",
    "preds = np.argmax(predictions, axis=-1)\n",
    "# convert prediction back to original labeling\n",
    "preds = preds + 1\n",
    "res = np.where(preds==y_test)[0].size/y_test.size\n",
    "print(f'Simple NN model Accuracy: {res}')"
   ]
  },
  {
   "cell_type": "markdown",
   "metadata": {},
   "source": [
    "#### NN model with softmax extension"
   ]
  },
  {
   "cell_type": "code",
   "execution_count": 17,
   "metadata": {},
   "outputs": [],
   "source": [
    "# build NN model layers: [54, 30, 7]. our imput size is 54, our output label size is 7\n",
    "model_4 = keras.Sequential([\n",
    "    keras.layers.Dense(units=54, input_shape=(54,),activation='relu'),\n",
    "    keras.layers.Dense(units=30, activation='relu'),\n",
    "    keras.layers.Dense(units=7, activation='softmax')\n",
    "])\n",
    "# compile our model with adam optimizer\n",
    "model_4.compile(optimizer='adam', \n",
    "              loss=tf.losses.CategoricalCrossentropy(from_logits=True),\n",
    "              metrics=['accuracy'])"
   ]
  },
  {
   "cell_type": "code",
   "execution_count": 18,
   "metadata": {},
   "outputs": [
    {
     "name": "stdout",
     "output_type": "stream",
     "text": [
      "CPU times: user 31.4 s, sys: 13.1 s, total: 44.6 s\n",
      "Wall time: 15.8 s\n"
     ]
    }
   ],
   "source": [
    "%%time\n",
    "history = model_4.fit(X_train, y_train, validation_split=0.1,batch_size=128,epochs=10,shuffle=True,verbose=0)"
   ]
  },
  {
   "cell_type": "code",
   "execution_count": 19,
   "metadata": {},
   "outputs": [
    {
     "name": "stdout",
     "output_type": "stream",
     "text": [
      "Simple NN model with softmax as extension Accuracy: 0.7711641729392326\n"
     ]
    }
   ],
   "source": [
    "predictions = model_4.predict(X_test, batch_size=1000,verbose=0)\n",
    "\n",
    "preds = np.argmax(predictions, axis=-1)\n",
    "# convert prediction back to original labeling\n",
    "preds = preds + 1\n",
    "res = np.where(preds==y_test)[0].size/y_test.size\n",
    "print(f'Simple NN model with softmax as extension Accuracy: {res}')"
   ]
  },
  {
   "cell_type": "code",
   "execution_count": null,
   "metadata": {},
   "outputs": [],
   "source": []
  }
 ],
 "metadata": {
  "kernelspec": {
   "display_name": "Python 3",
   "language": "python",
   "name": "python3"
  },
  "language_info": {
   "codemirror_mode": {
    "name": "ipython",
    "version": 3
   },
   "file_extension": ".py",
   "mimetype": "text/x-python",
   "name": "python",
   "nbconvert_exporter": "python",
   "pygments_lexer": "ipython3",
   "version": "3.7.3"
  }
 },
 "nbformat": 4,
 "nbformat_minor": 4
}
