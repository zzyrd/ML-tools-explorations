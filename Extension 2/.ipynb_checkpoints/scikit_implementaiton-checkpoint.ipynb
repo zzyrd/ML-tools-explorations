{
 "cells": [
  {
   "cell_type": "code",
   "execution_count": 1,
   "metadata": {},
   "outputs": [],
   "source": [
    "# Name: Zhihao Zhang\n",
    "# NetID: zz2432\n",
    "\n",
    "%matplotlib inline\n",
    "import numpy as np\n",
    "import math\n",
    "import matplotlib.pyplot as plt\n",
    "from sklearn import preprocessing\n",
    "from sklearn.model_selection import train_test_split\n",
    "\n",
    "from sklearn.svm import SVC\n",
    "from scipy.sparse import csr_matrix"
   ]
  },
  {
   "cell_type": "markdown",
   "metadata": {},
   "source": [
    "## Extension 2: Implement Gaussian Kernel in SVM"
   ]
  },
  {
   "cell_type": "markdown",
   "metadata": {},
   "source": [
    "### 1. Dataset used in class: breast_cancer"
   ]
  },
  {
   "cell_type": "code",
   "execution_count": 2,
   "metadata": {},
   "outputs": [
    {
     "name": "stdout",
     "output_type": "stream",
     "text": [
      "['malignant' 'benign']\n"
     ]
    }
   ],
   "source": [
    "from sklearn.datasets import load_breast_cancer\n",
    "data = load_breast_cancer()\n",
    "print(data.target_names)\n",
    "X = data.data\n",
    "y = data.target\n",
    "X_train_tmp, X_test_tmp, y_train, y_test = train_test_split(X, y, test_size=0.3, random_state=42)\n",
    "\n",
    "# scale the data since we need to compute distance by Gaussian kernel\n",
    "scaler = preprocessing.StandardScaler().fit(X_train_tmp)\n",
    "X_train = scaler.transform(X_train_tmp)\n",
    "X_test = scaler.transform(X_test_tmp)"
   ]
  },
  {
   "cell_type": "markdown",
   "metadata": {},
   "source": [
    "#### Two Sklearn library Implementations:  with/without extension"
   ]
  },
  {
   "cell_type": "code",
   "execution_count": 3,
   "metadata": {},
   "outputs": [
    {
     "name": "stdout",
     "output_type": "stream",
     "text": [
      "Accuracy on SVM with linear kernel: 0.9766081871345029\n",
      "Accuracy on SVM with gaussian kernel: 0.9883040935672515\n"
     ]
    }
   ],
   "source": [
    "clf1 = SVC(C=1,kernel='linear')\n",
    "clf1.fit(X_train, y_train)\n",
    "res1 =clf1.score(X_test,y_test)\n",
    "print(f'Accuracy on SVM with linear kernel: {res1}')\n",
    "\n",
    "clf2 = SVC(C=2,kernel='rbf',gamma=0.01)\n",
    "clf2.fit(X_train, y_train)\n",
    "res2 = clf2.score(X_test,y_test)\n",
    "print(f'Accuracy on SVM with gaussian kernel: {res2}')"
   ]
  },
  {
   "cell_type": "markdown",
   "metadata": {},
   "source": [
    "### 2. Dataset outside class:  fetch_20newsgroups_vectorized\n",
    "Dataset that contains lots of features for a single sample"
   ]
  },
  {
   "cell_type": "code",
   "execution_count": 4,
   "metadata": {},
   "outputs": [
    {
     "name": "stdout",
     "output_type": "stream",
     "text": [
      "(589, 130107)\n",
      "One single sample in X would have 130107 features!\n"
     ]
    }
   ],
   "source": [
    "from sklearn.datasets import fetch_20newsgroups_vectorized\n",
    "data = fetch_20newsgroups_vectorized()\n",
    "# do binary classification: only select two classes.\n",
    "# idx for label 18 and label 19\n",
    "idx = np.where(data.target>=18)\n",
    "X = data.data[idx]\n",
    "y = data.target[idx]\n",
    "X_train_tmp, X_test_tmp, y_train, y_test = train_test_split(X, y, test_size=0.3, random_state=42)\n",
    "X_train = X_train_tmp\n",
    "X_test = X_test_tmp\n",
    "\n",
    "# peak data\n",
    "X_train.shape\n",
    "print(X_train.shape)\n",
    "print('One single sample in X would have 130107 features!')"
   ]
  },
  {
   "cell_type": "markdown",
   "metadata": {},
   "source": [
    "#### Two Sklearn library Implementations:  with/without extension"
   ]
  },
  {
   "cell_type": "code",
   "execution_count": 5,
   "metadata": {},
   "outputs": [
    {
     "name": "stdout",
     "output_type": "stream",
     "text": [
      "Accuracy on SVM with linear kernel: 0.9565217391304348\n",
      "Accuracy on SVM with gaussian kernel: 0.9762845849802372\n"
     ]
    }
   ],
   "source": [
    "clf1 = SVC(C=1,kernel='linear')\n",
    "clf1.fit(X_train, y_train)\n",
    "res1 =clf1.score(X_test,y_test)\n",
    "print(f'Accuracy on SVM with linear kernel: {res1}')\n",
    "\n",
    "clf2 = SVC(C=5,kernel='rbf')\n",
    "clf2.fit(X_train, y_train)\n",
    "res2 = clf2.score(X_test,y_test)\n",
    "print(f'Accuracy on SVM with gaussian kernel: {res2}')"
   ]
  },
  {
   "cell_type": "code",
   "execution_count": null,
   "metadata": {},
   "outputs": [],
   "source": []
  }
 ],
 "metadata": {
  "kernelspec": {
   "display_name": "Python 3",
   "language": "python",
   "name": "python3"
  },
  "language_info": {
   "codemirror_mode": {
    "name": "ipython",
    "version": 3
   },
   "file_extension": ".py",
   "mimetype": "text/x-python",
   "name": "python",
   "nbconvert_exporter": "python",
   "pygments_lexer": "ipython3",
   "version": "3.7.3"
  }
 },
 "nbformat": 4,
 "nbformat_minor": 4
}
